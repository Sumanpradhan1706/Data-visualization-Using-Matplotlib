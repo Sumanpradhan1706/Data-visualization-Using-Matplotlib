import matplotlib.pyplot as plt


plt.plot([1, 2, 3], [4, 5, 6])
plt.show()


years = [1990, 1992, 1994, 1996, 1998, 2000, 2003, 2005, 2007, 2010]
runs =  [500, 700, 1100, 1500, 1800, 1200, 1700, 1300, 900, 1500]

plt.plot(years, runs)



plt.plot(years, runs)
plt.xlabel("Year")
plt.ylabel("Runs Scored")
plt.title("Sachin Tendulkar's Yearly Runs")



kohli = [0, 0, 500, 800, 1100, 1300, 1500, 1800, 1900, 2100]
sehwag = [0, 300, 800, 1200, 1500, 1700, 1600, 1400, 1000, 0]

plt.plot(years, kohli, label="Virat Kohli")
plt.plot(years, sehwag, label="Virender Sehwag")

plt.xlabel("Year")
plt.ylabel("Runs Scored")
plt.title("Performance Comparison")
plt.legend()
plt.show()


plt.plot(years, kohli, 'ro--', label="Kohli")  # red circles with dashed lines
plt.plot(years, sehwag, 'g^:', label="Sehwag")  # green triangles dotted
plt.legend()


plt.plot(years, kohli, color='orange', linestyle='--', label="Kohli")
plt.plot(years, sehwag, color='green', linestyle='-.', label="Sehwag")
plt.plot(years, runs, color='blue', label="Tendulkar")
plt.legend()


plt.plot(years, kohli, linewidth=3, label="Kohli")
plt.plot(years, sehwag, linewidth=2, label="Sehwag")
plt.legend()
plt.grid(True)
plt.tight_layout()
plt.show()


plt.style.available


with plt.xkcd():
    plt.plot(years, kohli, color='orange', linestyle='--', label="Kohli")
    plt.plot(years, sehwag, color='green', linestyle='-.', label="Sehwag")
    plt.plot(years, runs, color='blue', label="Tendulkar")
    plt.grid(True)
    plt.tight_layout()
    plt.legend()
    


years = [1990, 1992, 1994, 1996, 1998, 2000, 2003, 2005, 2007, 2010]
R.sharma =  [500, 750, 900, 1500, 1800, 800, 1700, 2300, 1900, 2000]
kohli = [0, 0, 500, 800, 1100, 1300, 1500, 1800, 1900, 2100]
sehwag = [0, 300, 800, 1200, 1500, 1700, 1600, 1400, 1000, 0]
plt.plot(years, kohli, color='orange', linestyle='--', label="V.Kohli")
plt.plot(years, sehwag, color='green', linestyle='-.', label="V.Sehwag")
plt.plot(years, runs, color='blue', label="R.sharma")
plt.legend()



